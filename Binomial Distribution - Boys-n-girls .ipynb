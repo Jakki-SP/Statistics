{
 "cells": [
  {
   "cell_type": "markdown",
   "metadata": {},
   "source": [
    "# Binomial Ditribution"
   ]
  },
  {
   "cell_type": "markdown",
   "metadata": {},
   "source": [
    "The ratio of boys to girls for babies born in Russia is 1.09:1.\n",
    "If there is one child born per birth, what proportion of Russian families with exactly 6 children will have at least 3 boys? \n",
    "Write a program to compute the answer using the above parameters:\n",
    "\n",
    "A single line containing the following values:\n",
    "\n",
    "1.09 1"
   ]
  },
  {
   "cell_type": "code",
   "execution_count": 1,
   "metadata": {},
   "outputs": [
    {
     "name": "stdout",
     "output_type": "stream",
     "text": [
      "1.09\n",
      "1.0\n"
     ]
    }
   ],
   "source": [
    "from math import factorial as f\n",
    "#boys,girls = map(float, input().split())\n",
    "boys = 1.09\n",
    "girls = 1.0\n",
    "print(boys)\n",
    "print(girls)"
   ]
  },
  {
   "cell_type": "code",
   "execution_count": 2,
   "metadata": {},
   "outputs": [],
   "source": [
    "def comb(n,r):\n",
    "    return f(n)/(f(r)*f(n-r))"
   ]
  },
  {
   "cell_type": "code",
   "execution_count": 3,
   "metadata": {},
   "outputs": [
    {
     "name": "stdout",
     "output_type": "stream",
     "text": [
      "0.696\n"
     ]
    }
   ],
   "source": [
    "# we need find the sum of the probabilities of 3,4,5, or 6 boys\n",
    "p = boys/(boys+girls)\n",
    "n = 6\n",
    "cum_prob = 0\n",
    "for r in range(3,n+1):\n",
    "    prob_r = comb(n,r)*pow(p,r)*pow(1-p,n-r)\n",
    "    cum_prob = cum_prob+prob_r\n",
    "print(\"%.3f\" % cum_prob)"
   ]
  }
 ],
 "metadata": {
  "kernelspec": {
   "display_name": "Python 3",
   "language": "python",
   "name": "python3"
  },
  "language_info": {
   "codemirror_mode": {
    "name": "ipython",
    "version": 3
   },
   "file_extension": ".py",
   "mimetype": "text/x-python",
   "name": "python",
   "nbconvert_exporter": "python",
   "pygments_lexer": "ipython3",
   "version": "3.7.3"
  }
 },
 "nbformat": 4,
 "nbformat_minor": 2
}
